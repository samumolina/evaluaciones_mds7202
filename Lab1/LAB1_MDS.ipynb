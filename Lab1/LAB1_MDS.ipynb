{
 "cells": [
  {
   "cell_type": "markdown",
   "id": "cd7b1b55",
   "metadata": {
    "cell_id": "8cc73c45-7557-4a81-b633-5c9d4846f89a",
    "deepnote_cell_height": 103.53334045410156,
    "deepnote_cell_type": "markdown",
    "id": "cd7b1b55"
   },
   "source": [
    "<h1><center>Laboratorio 1: Primeros pasos 👣</center></h1>\n",
    "\n",
    "<center><strong>MDS7202: Laboratorio de Programación Científica para Ciencia de Datos - Primavera 2021</strong></center>"
   ]
  },
  {
   "cell_type": "markdown",
   "id": "Vp_vOHK7V97e",
   "metadata": {
    "cell_id": "00001-88b0af62-a32b-4a43-a29c-18e186a5b27c",
    "deepnote_cell_height": 165.18333435058594,
    "deepnote_cell_type": "markdown",
    "id": "Vp_vOHK7V97e"
   },
   "source": [
    "### Cuerpo Docente:\n",
    "\n",
    "- Profesor: Pablo Badilla\n",
    "- Auxiliar: Ignacio Meza D.\n",
    "- Ayudante: Patricio Ortiz"
   ]
  },
  {
   "cell_type": "markdown",
   "id": "4N_5AYgyWKyA",
   "metadata": {
    "cell_id": "00002-0750fcdb-b4ae-4cf1-a4a4-d9bfa0333bb0",
    "deepnote_cell_height": 139.5,
    "deepnote_cell_type": "markdown",
    "id": "4N_5AYgyWKyA"
   },
   "source": [
    "### Equipo: SUPER IMPORTANTE - notebooks sin nombre no serán revisados\n",
    "\n",
    "- Nombre de alumno 1: Samuel Molina Bustos\n"
   ]
  },
  {
   "cell_type": "markdown",
   "id": "1rjlaJDEWxd9",
   "metadata": {
    "cell_id": "00003-b8b49849-bb56-4cc2-a48a-61b39fec1b81",
    "deepnote_cell_height": 61.28334045410156,
    "deepnote_cell_type": "markdown",
    "id": "1rjlaJDEWxd9"
   },
   "source": [
    "### **Link de repositorio de GitHub:** `https://github.com/samumolina/evaluaciones_mds7202`"
   ]
  },
  {
   "cell_type": "markdown",
   "id": "9el9ERaKWW3i",
   "metadata": {
    "cell_id": "00004-d7422315-3cc6-4ad4-b418-514de45de736",
    "deepnote_cell_height": 272.6333312988281,
    "deepnote_cell_type": "markdown",
    "id": "9el9ERaKWW3i"
   },
   "source": [
    "## Reglas:\n",
    "\n",
    "- Fecha de entrega: 6 días desde la publicación, 3 días de atraso con 1 punto de descuento c/u. Pueden utilizar días bonus sin descuento.\n",
    "- **Grupos de 2 personas**.\n",
    "- **Ausentes** deberán realizar la actividad solos. \n",
    "- Cualquier duda fuera del horario de clases al foro. Mensajes al equipo docente serán respondidos por este medio.\n",
    "- Prohibidas las copias. \n",
    "- Pueden usar cualquer material del curso que estimen conveniente."
   ]
  },
  {
   "cell_type": "markdown",
   "id": "4708b9b7",
   "metadata": {
    "cell_id": "00005-51a1f93d-29a6-4e55-b7bb-2bcb0ed957ed",
    "deepnote_cell_height": 250.23333740234375,
    "deepnote_cell_type": "markdown",
    "id": "4708b9b7"
   },
   "source": [
    "\n",
    "## Objetivos del lab:\n",
    "\n",
    "\n",
    "- Variables, Operadores y Expresiones.\n",
    "- Estructuras de Control (if/else).\n",
    "- Iteraciones.\n",
    "- Listas y Diccionarios.\n",
    "- Programación Funcional (Map, Filter y Reduce).\n",
    "- Programación Orientada a Objetos (Encapsulamiento, Polimorfismo y Herencia)"
   ]
  },
  {
   "cell_type": "markdown",
   "id": "d58b089c",
   "metadata": {
    "cell_id": "00006-efe63da9-f6f9-4882-9fa9-f71fd952629f",
    "deepnote_cell_height": 507.433349609375,
    "deepnote_cell_type": "markdown",
    "id": "d58b089c"
   },
   "source": [
    "## Parte 1: 🍋 Frutas 🍓\n",
    "\n",
    "En esta primera parte se trabajará lo escencial visto hasta el momento más un poco de programación funcional a través de frutas:\n",
    "\n",
    "<div align='center'>\n",
    "<img src='https://upload.wikimedia.org/wikipedia/commons/a/a2/Berries_in_Berlin.jpg' width=600/>\n",
    "</div>"
   ]
  },
  {
   "cell_type": "markdown",
   "id": "5fdf6b19",
   "metadata": {
    "cell_id": "00007-9e6f7a23-aa74-45c7-888c-ff4db249d008",
    "deepnote_cell_height": 236.3333282470703,
    "deepnote_cell_type": "markdown",
    "id": "5fdf6b19"
   },
   "source": [
    "Defina las siguientes frutas como diccionarios a partir de sus características (nombre, color, tipo y si posee o no pepas):\n",
    "\n",
    "| Nombre    | Tipo     | Color    | Pepas |\n",
    "|-----------|----------|----------|-------|\n",
    "| limon     | cítrica  | amarillo | True  |\n",
    "| naranja   | cítrica  | naranjo  | True  |\n",
    "| plátano   | tropical | amarillo | False |\n",
    "| piña      | tropical | amarillo | False |\n",
    "| frutilla  | bosque   | rojo     | True |\n",
    "| frambuesa | bosque   | rojo     | True |"
   ]
  },
  {
   "cell_type": "markdown",
   "id": "33aed47b",
   "metadata": {
    "cell_id": "00008-0efe55b8-e77f-4158-998a-f0b7d0fcaf11",
    "deepnote_cell_height": 121.93333435058594,
    "deepnote_cell_type": "markdown",
    "id": "33aed47b"
   },
   "source": [
    "### [0.5] Estructurar Datos \n",
    "\n",
    "Agregue Piña, Frutilla y Frambuesa como diccionarios (siga los ejemplos de las frutas dadas) y luego cree un arreglo que contenga estas frutas.\n"
   ]
  },
  {
   "cell_type": "code",
   "execution_count": 1,
   "id": "26d23e26",
   "metadata": {
    "cell_id": "00009-23a02d4a-75bf-49ff-b232-7b8555314e33",
    "deepnote_cell_height": 440.1333312988281,
    "deepnote_cell_type": "code",
    "deepnote_to_be_reexecuted": false,
    "execution_millis": 13,
    "execution_start": 1648774533346,
    "id": "26d23e26",
    "source_hash": "56db5a38"
   },
   "outputs": [],
   "source": [
    "limon = {\n",
    "    \"nombre\": \"limón\", \n",
    "    \"tipo\": \"cítrica\", \n",
    "    \"color\": \"amarillo\", \n",
    "    \"pepas\": True\n",
    "    }\n",
    "\n",
    "naranja = {\"nombre\": \"naranja\", \n",
    "           \"tipo\": \"cítrica\", \n",
    "           \"color\": \"naranjo\", \n",
    "           \"pepas\": True\n",
    "          }\n",
    "\n",
    "platano = {\"nombre\": \"plátano\", \n",
    "           \"tipo\": \"tropical\", \n",
    "           \"color\": \"amarillo\", \n",
    "           \"pepas\": False\n",
    "          }\n",
    "          \n",
    "# agregar las frutas que faltan aquí\n",
    "piña = {\"nombre\": \"piña\", \n",
    "           \"tipo\": \"tropical\", \n",
    "           \"color\": \"amarillo\", \n",
    "           \"pepas\": False\n",
    "          }\n",
    "\n",
    "frutilla = {\"nombre\": \"frutilla\", \n",
    "           \"tipo\": \"bosque\", \n",
    "           \"color\": \"rojo\", \n",
    "           \"pepas\": True\n",
    "          }\n",
    "\n",
    "frambuesa = {\"nombre\": \"frambuesa\", \n",
    "           \"tipo\": \"bosque\", \n",
    "           \"color\": \"rojo\", \n",
    "           \"pepas\": True\n",
    "          }"
   ]
  },
  {
   "cell_type": "markdown",
   "id": "259ee333",
   "metadata": {
    "cell_id": "00010-00a566fa-2c09-4586-9215-578031a05ccb",
    "deepnote_cell_height": 51.53334045410156,
    "deepnote_cell_type": "markdown",
    "id": "259ee333"
   },
   "source": [
    "Ahora, agregue todas las frutas a un arreglo."
   ]
  },
  {
   "cell_type": "code",
   "execution_count": 2,
   "id": "fcf62186",
   "metadata": {
    "cell_id": "00011-6939583b-1092-4998-aaf7-1e390243efe0",
    "deepnote_cell_height": 98.13333129882812,
    "deepnote_cell_type": "code",
    "deepnote_to_be_reexecuted": false,
    "execution_millis": 0,
    "execution_start": 1648771376258,
    "id": "fcf62186",
    "source_hash": "78d4e62"
   },
   "outputs": [],
   "source": [
    "# Ojo: agregue los datos en el mismo orden que aparecen en la tabla\n",
    "datos = [limon, naranja, platano, piña, frutilla, frambuesa]"
   ]
  },
  {
   "cell_type": "markdown",
   "id": "2ed7730e",
   "metadata": {
    "cell_id": "00012-2defb587-d459-4356-8211-dab97818b8d4",
    "deepnote_cell_height": 51.53334045410156,
    "deepnote_cell_type": "markdown",
    "id": "2ed7730e"
   },
   "source": [
    "Este arreglo será la información con la que se trabajará durante el lab."
   ]
  },
  {
   "cell_type": "markdown",
   "id": "e9b1e46d",
   "metadata": {
    "cell_id": "00013-24c31dd0-b531-4e29-b493-12c521264f30",
    "deepnote_cell_height": 61.133331298828125,
    "deepnote_cell_type": "markdown",
    "id": "e9b1e46d"
   },
   "source": [
    "### Funciones Aplicadas a los Datos [1.5 puntos]"
   ]
  },
  {
   "cell_type": "markdown",
   "id": "b7b016d6",
   "metadata": {
    "cell_id": "00014-496b8ab6-913a-4a47-a9ff-1c25b099d386",
    "deepnote_cell_height": 569.5,
    "deepnote_cell_type": "markdown",
    "id": "b7b016d6"
   },
   "source": [
    "Elabore las siguientes funciones:\n",
    "    \n",
    "**1. La función `describir(datos)` que genere un arreglo con strings que describan cada fruta de la siguiente manera:**\n",
    "\n",
    "```{El/La} {...} es una fruta de tipo {...} de color {...}. {Presenta/No presenta} pepas en su interior.```\n",
    "    \n",
    "Por ejemplo, para el plátano se debe generar el siguiente string:\n",
    "    \n",
    "```\n",
    "'El plátano es una fruta de tipo tropical de color amarillo. No presenta pepas en su interior.'\n",
    "```\n",
    "    \n",
    "Indicaciones: \n",
    "- Usen formateo o suma de strings, if, else y for.\n",
    "- Para saber si ocupar 'El' o 'La', pueden acceder al nombre de la fruta y ver cual es el último carácter a través de indexadores `string[indice]`.\n",
    "    \n",
    "**2. La función `filtrar_por_pepa(datos, tiene_pepas)` que dado un tipo de fruta y un booleano, retorne las frutas que tienen o no tienen pepas (según el valor de `tiene_pepas`).**\n",
    "    \n",
    "\n",
    "Por ejemplo, `filtrar_por_pepa(datos, True)` deberá retornar un arreglo con los diccionarios de: naranja, limon, frutilla y frambuesa.\n",
    "\n",
    "\n",
    "**3. La función `conteo_colores(datos)` que cree un diccionario que haga un conteo los colores de las frutas.**\n",
    "\n",
    "Para estos datos, la función debería retornar el siguiente diccionario: \n",
    "    \n",
    "```python\n",
    "{\"amarillo\": 3, \"naranjo\": 1, \"rojo\": 2}\n",
    "````"
   ]
  },
  {
   "cell_type": "code",
   "execution_count": 3,
   "id": "023bc051",
   "metadata": {
    "cell_id": "00015-02d1a164-251d-44d6-86d4-75642693b72e",
    "deepnote_cell_height": 296.1333312988281,
    "deepnote_cell_type": "code",
    "deepnote_to_be_reexecuted": false,
    "execution_millis": 1,
    "execution_start": 1648771376258,
    "id": "023bc051",
    "source_hash": "cc4d3003"
   },
   "outputs": [],
   "source": [
    "def describir(datos):\n",
    "    # Código Aquí\n",
    "\n",
    "    descripciones = []\n",
    "    for fruta in datos:\n",
    "\n",
    "      if fruta['nombre'][-1] == 'a':\n",
    "        if fruta['pepas'] == False:\n",
    "          descripcion = f\"La {fruta['nombre']} es una fruta de tipo {fruta['tipo']} de color {fruta['color']}. No presenta pepas en su interior.\"\n",
    "          descripciones.append(descripcion)        \n",
    "        else:\n",
    "          descripcion = f\"La {fruta['nombre']} es una fruta de tipo {fruta['tipo']} de color {fruta['color']}. Presenta pepas en su interior.\" \n",
    "          descripciones.append(descripcion)\n",
    "\n",
    "      else:\n",
    "        if fruta['pepas'] == False:\n",
    "          descripcion = f\"El {fruta['nombre']} es una fruta de tipo {fruta['tipo']} de color {fruta['color']}. No presenta pepas en su interior.\"\n",
    "          descripciones.append(descripcion)\n",
    "        else:\n",
    "          descripcion = f\"El {fruta['nombre']} es una fruta de tipo {fruta['tipo']} de color {fruta['color']}. Presenta pepas en su interior.\" \n",
    "          descripciones.append(descripcion)\n",
    "\n",
    "    return descripciones\n",
    "\n",
    "\n",
    "def filtrar_por_pepa(datos, tiene_pepas):\n",
    "    # Código Aquí\n",
    "\n",
    "    filtrados = []\n",
    "    for fruta in datos:\n",
    "\n",
    "      if fruta['pepas'] == tiene_pepas:\n",
    "        filtrados.append(fruta)\n",
    "\n",
    "    return filtrados\n",
    "\n",
    "\n",
    "def conteo_colores(datos):\n",
    "    # Código Aquí\n",
    "\n",
    "    conteo = {}\n",
    "    for fruta in datos:\n",
    "\n",
    "      if fruta['color'] not in conteo:\n",
    "        conteo[fruta['color']] = 1\n",
    "      else:\n",
    "        conteo[fruta['color']] += 1\n",
    "\n",
    "    return conteo"
   ]
  },
  {
   "cell_type": "markdown",
   "id": "5240bec1",
   "metadata": {
    "cell_id": "00016-00dc4ab1-fcc8-4146-b5c0-3fd35b83ff8b",
    "deepnote_cell_height": 118.73333740234375,
    "deepnote_cell_type": "markdown",
    "id": "5240bec1"
   },
   "source": [
    "El código de la siguiente celda presenta tests para probar sus funciones: Si la ejecución de esta celda no les levanta ninguna excepción, entonces sus funciones están implementadas según lo requerido. Si alguna falla, entonces deberán corregir los errores mostrados. \n",
    "Noten que los strings, diccionarios y en general, los objetos deben ser exactamente idénticos para que el test no falle.\n"
   ]
  },
  {
   "cell_type": "markdown",
   "id": "F2mt7aIusap8",
   "metadata": {
    "cell_id": "00017-576f30ed-3e5f-40f2-a8a1-d4523e544272",
    "deepnote_cell_height": 51.53334045410156,
    "deepnote_cell_type": "markdown",
    "id": "F2mt7aIusap8"
   },
   "source": [
    "**Ejecuten esta celda para comprobar su código:**"
   ]
  },
  {
   "cell_type": "code",
   "execution_count": 4,
   "id": "c39b58c0",
   "metadata": {
    "cell_id": "00018-040aa635-4b1f-40dc-a3d0-102cb5eee5d2",
    "deepnote_cell_height": 656.13330078125,
    "deepnote_cell_type": "code",
    "deepnote_to_be_reexecuted": false,
    "execution_millis": 0,
    "execution_start": 1648771376298,
    "id": "c39b58c0",
    "source_hash": "263915b1"
   },
   "outputs": [],
   "source": [
    "# ---------------------------------------------------------------------\n",
    "# test descripciones\n",
    "# note que las frutas deben estar en igual orden para que este assert no falle.\n",
    "\n",
    "descripciones_esperadas = [\n",
    "    \"El limón es una fruta de tipo cítrica de color amarillo. Presenta pepas en su interior.\",\n",
    "    \"La naranja es una fruta de tipo cítrica de color naranjo. Presenta pepas en su interior.\",\n",
    "    \"El plátano es una fruta de tipo tropical de color amarillo. No presenta pepas en su interior.\",\n",
    "    \"La piña es una fruta de tipo tropical de color amarillo. No presenta pepas en su interior.\",\n",
    "    \"La frutilla es una fruta de tipo bosque de color rojo. Presenta pepas en su interior.\",\n",
    "    \"La frambuesa es una fruta de tipo bosque de color rojo. Presenta pepas en su interior.\",\n",
    "]\n",
    "\n",
    "assert descripciones_esperadas == describir(datos)\n",
    "\n",
    "\n",
    "# ---------------------------------------------------------------------\n",
    "# test filtro\n",
    "frutas_con_pepa_esperadas = [\n",
    "    {\"nombre\": \"limón\", \"tipo\": \"cítrica\", \"color\": \"amarillo\", \"pepas\": True},\n",
    "    {\"nombre\": \"naranja\", \"tipo\": \"cítrica\", \"color\": \"naranjo\", \"pepas\": True},\n",
    "    {\"nombre\": \"frutilla\", \"tipo\": \"bosque\", \"color\": \"rojo\", \"pepas\": True},\n",
    "    {\"nombre\": \"frambuesa\", \"tipo\": \"bosque\", \"color\": \"rojo\", \"pepas\": True}\n",
    "]\n",
    "\n",
    "assert frutas_con_pepa_esperadas == filtrar_por_pepa(datos, True)\n",
    "\n",
    "# ---------------------------------------------------------------------\n",
    "# test conteo\n",
    "conteo_esperado = {'amarillo': 3, 'naranjo': 1, 'rojo': 2}\n",
    "\n",
    "\n",
    "assert conteo_esperado == conteo_colores(datos)"
   ]
  },
  {
   "cell_type": "markdown",
   "id": "yvry-8cgmHk5",
   "metadata": {
    "cell_id": "00019-ae228b35-6d23-45e3-9662-26f7cab6d93b",
    "deepnote_cell_height": 99.53334045410156,
    "deepnote_cell_type": "markdown",
    "id": "yvry-8cgmHk5"
   },
   "source": [
    "### Implementaciones Funcionales [1.0 punto] \n",
    "\n",
    "Implementar las funciones de la sección anterior de forma funcional (solo las primeras 2)."
   ]
  },
  {
   "cell_type": "code",
   "execution_count": 5,
   "id": "c6ef993a",
   "metadata": {
    "cell_id": "00020-5d54d413-0d00-4fce-ad8b-845783dca715",
    "deepnote_cell_height": 314.1333312988281,
    "deepnote_cell_type": "code",
    "deepnote_to_be_reexecuted": false,
    "execution_millis": 1,
    "execution_start": 1648771376299,
    "id": "c6ef993a",
    "source_hash": "64c31950"
   },
   "outputs": [],
   "source": [
    "def describir_funcional(datos):\n",
    "\n",
    "    def generar_descripcion(fruta):\n",
    "        # esta función debería retornar el string para una fruta en particular.\n",
    "\n",
    "        if fruta['nombre'][-1] == 'a':\n",
    "          if fruta['pepas'] == False:\n",
    "            descripcion = f\"La {fruta['nombre']} es una fruta de tipo {fruta['tipo']} de color {fruta['color']}. No presenta pepas en su interior.\"       \n",
    "          else:\n",
    "            descripcion = f\"La {fruta['nombre']} es una fruta de tipo {fruta['tipo']} de color {fruta['color']}. Presenta pepas en su interior.\" \n",
    "\n",
    "        else:\n",
    "          if fruta['pepas'] == False:\n",
    "            descripcion = f\"El {fruta['nombre']} es una fruta de tipo {fruta['tipo']} de color {fruta['color']}. No presenta pepas en su interior.\"\n",
    "          else:\n",
    "            descripcion = f\"El {fruta['nombre']} es una fruta de tipo {fruta['tipo']} de color {fruta['color']}. Presenta pepas en su interior.\"\n",
    "        \n",
    "        return descripcion\n",
    "\n",
    "    descripciones = list(map(generar_descripcion, datos))\n",
    "    return descripciones\n",
    "    \n",
    "def filtrar_por_pepa_funcional(datos, tipo_de_dato):\n",
    "    filtrados = list(filter(lambda fruta: fruta['pepas'] == tipo_de_dato , datos))\n",
    "    return filtrados"
   ]
  },
  {
   "cell_type": "code",
   "execution_count": 6,
   "id": "OyGdi9IRS9fy",
   "metadata": {
    "cell_id": "00021-70462114-b01c-413a-af56-9d09ce101621",
    "deepnote_cell_height": 98.13333129882812,
    "deepnote_cell_type": "code",
    "deepnote_to_be_reexecuted": false,
    "execution_millis": 4,
    "execution_start": 1648771376300,
    "id": "OyGdi9IRS9fy",
    "source_hash": "a202dbc8"
   },
   "outputs": [],
   "source": [
    "assert descripciones_esperadas == describir_funcional(datos)\n",
    "assert frutas_con_pepa_esperadas == filtrar_por_pepa_funcional(datos, True)"
   ]
  },
  {
   "cell_type": "markdown",
   "id": "492b941a",
   "metadata": {
    "cell_id": "00022-c5bf636b-19e3-43ba-a272-337bc796dd18",
    "deepnote_cell_height": 664.7833251953125,
    "deepnote_cell_type": "markdown",
    "id": "492b941a"
   },
   "source": [
    "## Parte 2: Electrodomésticos 🧃\n",
    "\n",
    "En esta parte se solicitarán un par de clases que permitirá jugar con la Programación Orientada a Objetos.\n",
    "\n",
    "<div align='center'>\n",
    "<img src='https://upload.wikimedia.org/wikipedia/commons/6/67/Breville.jpg' width=400/>\n",
    "</div>\n",
    "\n",
    "\n",
    "### [0.5] Clase Electrodoméstico\n",
    "\n",
    "Defina la clase `Electrodomestico` que implemente:\n",
    "\n",
    "\n",
    "- Un constructor que defina un atributo de instancia llamado `enchufado` que almacene valores booleanos. \n",
    "- Un método llamado `esta_enchufado(self)` que levante una excepción `Exception` y que termine con la ejecución del programa cuando el atributo enchuado sea `False`. La exepción debe levantar el mensaje `'Alerta ⚠️: El electrodoméstico no está enchufado'`\n",
    "- Un método llamado `enchufar(self)` que cambia el estado de `enchufado` a True.\n",
    "\n"
   ]
  },
  {
   "cell_type": "code",
   "execution_count": 7,
   "id": "9f8aa475",
   "metadata": {
    "cell_id": "00023-337cab73-fa5d-4b7c-9f74-51184ad20d38",
    "deepnote_cell_height": 242.13333129882812,
    "deepnote_cell_type": "code",
    "deepnote_to_be_reexecuted": false,
    "execution_millis": 5,
    "execution_start": 1648771376320,
    "id": "9f8aa475",
    "source_hash": "43ca10f0"
   },
   "outputs": [],
   "source": [
    "class Electrodomestico:\n",
    "    \n",
    "    def __init__(self):\n",
    "      # Código Aquí\n",
    "      self.enchufado = False\n",
    "        \n",
    "    def esta_enchufado(self):\n",
    "      # Código Aquí\n",
    "      if not self.enchufado:\n",
    "        raise Exception('Alerta ⚠️: El electrodoméstico no está enchufado.')\n",
    "            \n",
    "    def enchufar(self):\n",
    "      # Código Aquí\n",
    "      if self.enchufado == True:\n",
    "        print('El electrodoméstico ya estaba enchufado.')\n",
    "      if self.enchufado == False:\n",
    "        self.enchufado = True\n",
    "        print('Ud ha enchufado el electrodoméstico.')"
   ]
  },
  {
   "cell_type": "markdown",
   "id": "d7d477b5",
   "metadata": {
    "cell_id": "00024-233612fd-adfa-47f9-b2db-c7acd1129cfd",
    "deepnote_cell_height": 955.11669921875,
    "deepnote_cell_type": "markdown",
    "id": "d7d477b5"
   },
   "source": [
    "### Clase Jugera [1.0 puntos] \n",
    "\n",
    "\n",
    "<div align='center'>\n",
    "<img src='https://upload.wikimedia.org/wikipedia/commons/b/bb/Liquadora_%28parts%29.JPG' width=400/>\n",
    "</div>\n",
    "\n",
    "\n",
    "Implemente la clase `Jugera` que extiende `Electrodomestico` y que implemente: \n",
    "\n",
    "\n",
    "- Un constructor que tenga una lista de ingredientes frutales (llamado `bandeja`).\n",
    "\n",
    "\n",
    "- Un método llamado `agregar_ingrediente(self, nueva_fruta)` que dado una fruta, agregue esa fruta a la `bandeja`.\n",
    "\n",
    "- Un método llamado `listar_ingredientes(self)` que imprima (con `print`) los ingredientes actuales de la `bandeja` de la siguiente forma: \n",
    "\n",
    "    `Ingredientes en la bandeja: frutilla, frambuesa, piña.`\n",
    "\n",
    "De lo contrario si no tiene ingredientes imprima:\n",
    "\n",
    "    `Bandeja vacía`\n",
    "\n",
    "\n",
    "**Hint:** Investigar el método `join` de un string para generar el string con los nombres de las frutas.\n",
    "    \n",
    "    \n",
    "    \n",
    "\n",
    "- Un método llamado `preparar_jugo(self)` que: \n",
    "    - Primero verifique que el electrodoméstico esté enchufado usando `self.esta_enchufado()`.\n",
    "    - Verifique que haya por lo menos un ingrediente en la `bandeja`. En el caso que no haya, levantar una excepción con contenido `'Error ❌: La bandeja no tiene ingredientes.'`\n",
    "    - Verifique que ninguna fruta tenga pepas. En el caso que haya alguna, imprimir (con `print`) el mensaje de advertencia `'Alerta ⚠️: El jugo puede contener restos de pepas.'`. Puede usar la función definida en la sección anterior.\n",
    "    - Genere un mensaje indicado `Jugo de {nombres de las frutas separadas por una ,} listo. 🏖️🥤 Que lo disfrutes!!! 🥤🏖️. ` (Hint: Usar nuevamente `join`).\n",
    "    - Vacie la `bandeja` (es decir, eliminar todas las frutas de la bandeja).\n",
    "    - Retorne el mensaje generado.\n"
   ]
  },
  {
   "cell_type": "code",
   "execution_count": 8,
   "id": "d9db037b",
   "metadata": {
    "cell_id": "00025-522f7167-f83c-4b89-89d7-b6dc0af9e257",
    "deepnote_cell_height": 350.1333312988281,
    "deepnote_cell_type": "code",
    "deepnote_to_be_reexecuted": false,
    "execution_millis": 14,
    "execution_start": 1648771376330,
    "id": "d9db037b",
    "source_hash": "629ebd27"
   },
   "outputs": [],
   "source": [
    "class Jugera(Electrodomestico):\n",
    "    \n",
    "    def __init__(self):\n",
    "      super().__init__()\n",
    "      # Código Aquí\n",
    "      self.bandeja = []\n",
    "\n",
    "        \n",
    "    def agregar_ingrediente(self, nueva_fruta): \n",
    "        # Código Aquí\n",
    "        self.bandeja.append(nueva_fruta)\n",
    "        print('Fruta añadida')\n",
    "     \n",
    "    def listar_ingredientes(self):\n",
    "        # Código Aquí\n",
    "        if len(self.bandeja) != 0:\n",
    "          frutas = []\n",
    "          for fruta in self.bandeja:\n",
    "            frutas.append(fruta['nombre'])\n",
    "          bandejita = ', '.join(frutas)\n",
    "          print(f\"Ingredientes en la bandeja: {bandejita}.\")\n",
    "        else:\n",
    "          print('Bandeja vacía')\n",
    "    \n",
    "    def preparar_jugo(self):\n",
    "        # Código Aquí\n",
    "        self.esta_enchufado()\n",
    "\n",
    "        if len(self.bandeja) == 0:\n",
    "          raise Exception('Error ❌: La bandeja no tiene ingredientes.')\n",
    "\n",
    "        if len(filtrar_por_pepa(self.bandeja, True)) > 0:\n",
    "          print('Alerta ⚠️: El jugo puede contener restos de pepas.')\n",
    "\n",
    "        frutas = []\n",
    "        for fruta in self.bandeja:\n",
    "          frutas.append(fruta['nombre'])\n",
    "        bandejita = ', '.join(frutas)\n",
    "\n",
    "        mensaje = f\"Jugo de {bandejita} listo. 🏖️🥤 Que lo disfrutes!!! 🥤🏖️.\"\n",
    "\n",
    "        self.bandeja.clear()\n",
    "\n",
    "        return mensaje"
   ]
  },
  {
   "cell_type": "markdown",
   "id": "6889015a",
   "metadata": {
    "cell_id": "00026-f0160917-f780-4ed0-847a-614b5ba7c432",
    "deepnote_cell_height": 121.93333435058594,
    "deepnote_cell_type": "markdown",
    "id": "6889015a"
   },
   "source": [
    "### Interacciones\n",
    "\n",
    "Las siguientes celdas les permitirán probar las interacciones de esta clase.\n",
    "La ejecución es solo referencial y no lleva puntaje. La idea es que la utilice como guía para desarrollar la clase."
   ]
  },
  {
   "cell_type": "code",
   "execution_count": 17,
   "id": "913af660",
   "metadata": {
    "cell_id": "00027-1949488c-939e-454d-a75b-23da5bbcff51",
    "colab": {
     "base_uri": "https://localhost:8080/"
    },
    "deepnote_cell_height": 164.46665954589844,
    "deepnote_cell_type": "code",
    "deepnote_to_be_reexecuted": false,
    "execution_millis": 3,
    "execution_start": 1648771376351,
    "id": "913af660",
    "outputId": "4db57a5f-2445-4855-fbcf-51a8e4434c20",
    "source_hash": "239b8903"
   },
   "outputs": [
    {
     "name": "stdout",
     "output_type": "stream",
     "text": [
      "Bandeja vacía\n"
     ]
    }
   ],
   "source": [
    "jugera = Jugera()\n",
    "\n",
    "# Como no tenemos ingredientes, listar_ingredientes deberá imprimir 'Bandeja vacía'\n",
    "jugera.listar_ingredientes()"
   ]
  },
  {
   "cell_type": "code",
   "execution_count": 18,
   "id": "9d06bf3e",
   "metadata": {
    "cell_id": "00028-5142c0b4-f48b-4edb-a8bf-35183f5c27b4",
    "colab": {
     "base_uri": "https://localhost:8080/",
     "height": 327
    },
    "deepnote_cell_height": 160.89999389648438,
    "deepnote_cell_type": "code",
    "deepnote_to_be_reexecuted": false,
    "execution_millis": 306,
    "execution_start": 1648771376405,
    "id": "9d06bf3e",
    "outputId": "87969147-8475-4799-b493-02e3b0593c2e",
    "source_hash": "77689b24"
   },
   "outputs": [
    {
     "ename": "Exception",
     "evalue": "Alerta ⚠️: El electrodoméstico no está enchufado.",
     "output_type": "error",
     "traceback": [
      "\u001b[1;31m---------------------------------------------------------------------------\u001b[0m",
      "\u001b[1;31mException\u001b[0m                                 Traceback (most recent call last)",
      "Input \u001b[1;32mIn [18]\u001b[0m, in \u001b[0;36m<cell line: 2>\u001b[1;34m()\u001b[0m\n\u001b[0;32m      1\u001b[0m \u001b[38;5;66;03m# Esta celda debería levantar una excepcion indicando que no está enchufada la jugera.\u001b[39;00m\n\u001b[1;32m----> 2\u001b[0m \u001b[43mjugera\u001b[49m\u001b[38;5;241;43m.\u001b[39;49m\u001b[43mpreparar_jugo\u001b[49m\u001b[43m(\u001b[49m\u001b[43m)\u001b[49m\n",
      "Input \u001b[1;32mIn [8]\u001b[0m, in \u001b[0;36mJugera.preparar_jugo\u001b[1;34m(self)\u001b[0m\n\u001b[0;32m     25\u001b[0m \u001b[38;5;28;01mdef\u001b[39;00m \u001b[38;5;21mpreparar_jugo\u001b[39m(\u001b[38;5;28mself\u001b[39m):\n\u001b[0;32m     26\u001b[0m     \u001b[38;5;66;03m# Código Aquí\u001b[39;00m\n\u001b[1;32m---> 27\u001b[0m     \u001b[38;5;28;43mself\u001b[39;49m\u001b[38;5;241;43m.\u001b[39;49m\u001b[43mesta_enchufado\u001b[49m\u001b[43m(\u001b[49m\u001b[43m)\u001b[49m\n\u001b[0;32m     29\u001b[0m     \u001b[38;5;28;01mif\u001b[39;00m \u001b[38;5;28mlen\u001b[39m(\u001b[38;5;28mself\u001b[39m\u001b[38;5;241m.\u001b[39mbandeja) \u001b[38;5;241m==\u001b[39m \u001b[38;5;241m0\u001b[39m:\n\u001b[0;32m     30\u001b[0m       \u001b[38;5;28;01mraise\u001b[39;00m \u001b[38;5;167;01mException\u001b[39;00m(\u001b[38;5;124m'\u001b[39m\u001b[38;5;124mError ❌: La bandeja no tiene ingredientes.\u001b[39m\u001b[38;5;124m'\u001b[39m)\n",
      "Input \u001b[1;32mIn [7]\u001b[0m, in \u001b[0;36mElectrodomestico.esta_enchufado\u001b[1;34m(self)\u001b[0m\n\u001b[0;32m      7\u001b[0m \u001b[38;5;28;01mdef\u001b[39;00m \u001b[38;5;21mesta_enchufado\u001b[39m(\u001b[38;5;28mself\u001b[39m):\n\u001b[0;32m      8\u001b[0m   \u001b[38;5;66;03m# Código Aquí\u001b[39;00m\n\u001b[0;32m      9\u001b[0m   \u001b[38;5;28;01mif\u001b[39;00m \u001b[38;5;129;01mnot\u001b[39;00m \u001b[38;5;28mself\u001b[39m\u001b[38;5;241m.\u001b[39menchufado:\n\u001b[1;32m---> 10\u001b[0m     \u001b[38;5;28;01mraise\u001b[39;00m \u001b[38;5;167;01mException\u001b[39;00m(\u001b[38;5;124m'\u001b[39m\u001b[38;5;124mAlerta ⚠️: El electrodoméstico no está enchufado.\u001b[39m\u001b[38;5;124m'\u001b[39m)\n",
      "\u001b[1;31mException\u001b[0m: Alerta ⚠️: El electrodoméstico no está enchufado."
     ]
    }
   ],
   "source": [
    "# Esta celda debería levantar una excepcion indicando que no está enchufada la jugera.\n",
    "jugera.preparar_jugo()"
   ]
  },
  {
   "cell_type": "code",
   "execution_count": 19,
   "id": "3ad38f18",
   "metadata": {
    "cell_id": "00029-d69d8c7d-59cc-4d10-ba74-29624cd674fd",
    "colab": {
     "base_uri": "https://localhost:8080/"
    },
    "deepnote_cell_height": 98.13333129882812,
    "deepnote_cell_type": "code",
    "deepnote_to_be_reexecuted": false,
    "execution_millis": 0,
    "execution_start": 1648771472216,
    "id": "3ad38f18",
    "outputId": "e9938687-cb20-4dfc-c361-a614ce51ee41",
    "source_hash": "36a2ab49"
   },
   "outputs": [
    {
     "name": "stdout",
     "output_type": "stream",
     "text": [
      "Ud ha enchufado el electrodoméstico.\n"
     ]
    }
   ],
   "source": [
    "# Enchufamos el electrodoméstico\n",
    "jugera.enchufar()"
   ]
  },
  {
   "cell_type": "code",
   "execution_count": 20,
   "id": "48009872",
   "metadata": {
    "cell_id": "00030-56395725-6356-4324-934e-457c95196257",
    "colab": {
     "base_uri": "https://localhost:8080/",
     "height": 304
    },
    "deepnote_cell_height": 160.89999389648438,
    "deepnote_cell_type": "code",
    "deepnote_to_be_reexecuted": false,
    "execution_millis": 195,
    "execution_start": 1648771476193,
    "id": "48009872",
    "outputId": "77a3bdb2-e48a-4970-a4e2-c326c66f2856",
    "scrolled": true,
    "source_hash": "27514b2c"
   },
   "outputs": [
    {
     "ename": "Exception",
     "evalue": "Error ❌: La bandeja no tiene ingredientes.",
     "output_type": "error",
     "traceback": [
      "\u001b[1;31m---------------------------------------------------------------------------\u001b[0m",
      "\u001b[1;31mException\u001b[0m                                 Traceback (most recent call last)",
      "Input \u001b[1;32mIn [20]\u001b[0m, in \u001b[0;36m<cell line: 2>\u001b[1;34m()\u001b[0m\n\u001b[0;32m      1\u001b[0m \u001b[38;5;66;03m# Esta celda debería levantar una excepción informandoles que la bandeja no tiene ingredientes.\u001b[39;00m\n\u001b[1;32m----> 2\u001b[0m \u001b[43mjugera\u001b[49m\u001b[38;5;241;43m.\u001b[39;49m\u001b[43mpreparar_jugo\u001b[49m\u001b[43m(\u001b[49m\u001b[43m)\u001b[49m\n",
      "Input \u001b[1;32mIn [8]\u001b[0m, in \u001b[0;36mJugera.preparar_jugo\u001b[1;34m(self)\u001b[0m\n\u001b[0;32m     27\u001b[0m \u001b[38;5;28mself\u001b[39m\u001b[38;5;241m.\u001b[39mesta_enchufado()\n\u001b[0;32m     29\u001b[0m \u001b[38;5;28;01mif\u001b[39;00m \u001b[38;5;28mlen\u001b[39m(\u001b[38;5;28mself\u001b[39m\u001b[38;5;241m.\u001b[39mbandeja) \u001b[38;5;241m==\u001b[39m \u001b[38;5;241m0\u001b[39m:\n\u001b[1;32m---> 30\u001b[0m   \u001b[38;5;28;01mraise\u001b[39;00m \u001b[38;5;167;01mException\u001b[39;00m(\u001b[38;5;124m'\u001b[39m\u001b[38;5;124mError ❌: La bandeja no tiene ingredientes.\u001b[39m\u001b[38;5;124m'\u001b[39m)\n\u001b[0;32m     32\u001b[0m \u001b[38;5;28;01mif\u001b[39;00m \u001b[38;5;28mlen\u001b[39m(filtrar_por_pepa(\u001b[38;5;28mself\u001b[39m\u001b[38;5;241m.\u001b[39mbandeja, \u001b[38;5;28;01mTrue\u001b[39;00m)) \u001b[38;5;241m>\u001b[39m \u001b[38;5;241m0\u001b[39m:\n\u001b[0;32m     33\u001b[0m   \u001b[38;5;28mprint\u001b[39m(\u001b[38;5;124m'\u001b[39m\u001b[38;5;124mAlerta ⚠️: El jugo puede contener restos de pepas.\u001b[39m\u001b[38;5;124m'\u001b[39m)\n",
      "\u001b[1;31mException\u001b[0m: Error ❌: La bandeja no tiene ingredientes."
     ]
    }
   ],
   "source": [
    "# Esta celda debería levantar una excepción informandoles que la bandeja no tiene ingredientes.\n",
    "jugera.preparar_jugo()"
   ]
  },
  {
   "cell_type": "code",
   "execution_count": 21,
   "id": "4873e0bf",
   "metadata": {
    "cell_id": "00031-a80832c3-3cdc-4b7d-99d9-8cab342bbdfe",
    "colab": {
     "base_uri": "https://localhost:8080/"
    },
    "deepnote_cell_height": 200.46665954589844,
    "deepnote_cell_type": "code",
    "deepnote_to_be_reexecuted": false,
    "execution_millis": 5,
    "execution_start": 1648771480349,
    "id": "4873e0bf",
    "outputId": "9834512d-822d-4ad7-fb2d-a04665797c37",
    "source_hash": "a8f0979e"
   },
   "outputs": [
    {
     "name": "stdout",
     "output_type": "stream",
     "text": [
      "Fruta añadida\n",
      "Fruta añadida\n",
      "Ingredientes en la bandeja: naranja, plátano.\n"
     ]
    }
   ],
   "source": [
    "# Agregamos algunos ingredientes\n",
    "jugera.agregar_ingrediente(naranja)\n",
    "jugera.agregar_ingrediente(platano)\n",
    "\n",
    "# Y los listamos (debería imprimir: 'Ingredientes en la bandeja: naranja, plátano')\n",
    "jugera.listar_ingredientes()"
   ]
  },
  {
   "cell_type": "code",
   "execution_count": 22,
   "id": "ff555151",
   "metadata": {
    "cell_id": "00032-d788f804-220c-4c21-a380-02851ecd6b11",
    "colab": {
     "base_uri": "https://localhost:8080/",
     "height": 53
    },
    "deepnote_cell_height": 134.6999969482422,
    "deepnote_cell_type": "code",
    "deepnote_output_heights": [
     21
    ],
    "deepnote_to_be_reexecuted": false,
    "execution_millis": 20,
    "execution_start": 1648771483033,
    "id": "ff555151",
    "outputId": "9b55c363-64bc-4160-cce3-39f337e02311",
    "source_hash": "7086345e"
   },
   "outputs": [
    {
     "name": "stdout",
     "output_type": "stream",
     "text": [
      "Alerta ⚠️: El jugo puede contener restos de pepas.\n"
     ]
    },
    {
     "data": {
      "text/plain": [
       "'Jugo de naranja, plátano listo. 🏖️🥤 Que lo disfrutes!!! 🥤🏖️.'"
      ]
     },
     "execution_count": 22,
     "metadata": {},
     "output_type": "execute_result"
    }
   ],
   "source": [
    "# Preparamos el jugo: 'Jugo de naranja, plátano listo. 🏖️🥤 Que lo disfrutes!!! 🥤🏖️.'\n",
    "# Una vez preparado el jugo, imprima el contenido del jugo y si una alerta, \n",
    "# en el caso que el jugo tenga pepas.\n",
    "jugera.preparar_jugo()"
   ]
  },
  {
   "cell_type": "code",
   "execution_count": 23,
   "id": "bbc532b2",
   "metadata": {
    "cell_id": "00033-e92ce272-71f9-42f5-88c7-f424bbd1e26c",
    "colab": {
     "base_uri": "https://localhost:8080/"
    },
    "deepnote_cell_height": 128.46665954589844,
    "deepnote_cell_type": "code",
    "deepnote_to_be_reexecuted": false,
    "execution_millis": 5,
    "execution_start": 1648771485278,
    "id": "bbc532b2",
    "outputId": "918f6dc3-d867-43ef-b51d-e25eef81830c",
    "source_hash": "6a032d0a"
   },
   "outputs": [
    {
     "name": "stdout",
     "output_type": "stream",
     "text": [
      "Bandeja vacía\n"
     ]
    }
   ],
   "source": [
    "# Una vez preparado el jugo, debería vaciarse la bandeja (imprimir Bandeja vacía)\n",
    "jugera.listar_ingredientes()"
   ]
  },
  {
   "cell_type": "markdown",
   "id": "972dbcac",
   "metadata": {
    "cell_id": "00034-64074fe4-888c-4951-8ae0-ea504924ee7f",
    "deepnote_cell_height": 274.7833251953125,
    "deepnote_cell_type": "markdown",
    "id": "972dbcac"
   },
   "source": [
    "### Clase Jugera + Properties  [1.0]\n",
    "\n",
    "Implementar `bandeja` usando una `property` que permita setear una `nueva_bandeja` como `bandeja` según las siguientes condiciones:\n",
    "\n",
    "\n",
    "- Compruebe que `nueva_bandeja` sea una lista. En caso contrario, levante una excepción.\n",
    "- No permita agregar más de 3 ingredientes a la bandeja a la vez. Si se entregan más de 3 frutas, se levante una excepción.\n",
    "- Se compruebe que todos los elementos del arreglo sean frutas. Para esto, por cada fruta compruebe que:\n",
    "    1. La fruta sea diccionario.\n",
    "    2. El diccionario entregado tenga las llaves `nombre`, `tipo`, `color` y `pepas`."
   ]
  },
  {
   "cell_type": "code",
   "execution_count": 34,
   "id": "X3RXI9nisGfa",
   "metadata": {
    "cell_id": "00035-7a9d24e7-798e-485c-bc6f-cf3a8058a5c2",
    "deepnote_cell_height": 494.1333312988281,
    "deepnote_cell_type": "code",
    "deepnote_to_be_reexecuted": false,
    "execution_millis": 29,
    "execution_start": 1648775313893,
    "id": "X3RXI9nisGfa",
    "source_hash": "2803f7ec"
   },
   "outputs": [],
   "source": [
    "class Jugera(Electrodomestico):\n",
    "    \n",
    "    \n",
    "    def __init__(self):\n",
    "        # Código Aquí\n",
    "        super().__init__()\n",
    "        self._bandeja = []\n",
    "\n",
    "    @property\n",
    "    def bandeja(self):\n",
    "        # Código Aquí\n",
    "        return self._bandeja\n",
    "        \n",
    "    @bandeja.setter\n",
    "    def bandeja(self, nueva_bandeja):\n",
    "        # Código Aquí\n",
    "\n",
    "        if not isinstance(nueva_bandeja, list):\n",
    "          raise TypeError(f'nueva_bandeja no es una lista.')\n",
    "\n",
    "        if len(nueva_bandeja) > 3:\n",
    "          raise ValueError(f'nueva_bandeja tiene más de 3 frutas.')\n",
    "\n",
    "        for fruta in nueva_bandeja:\n",
    "          if not isinstance(fruta, dict):\n",
    "            raise TypeError(f'fruta {fruta} no es un diccionario.')\n",
    "\n",
    "          for llave in ['nombre', 'tipo', 'color', 'pepas']:\n",
    "            if llave not in fruta:\n",
    "              raise ValueError('Falta una o más llaves en la/las fruta(s) entregada(s).')\n",
    "\n",
    "        self._bandeja = nueva_bandeja\n",
    "\n",
    "    def agregar_ingrediente(self, nueva_fruta):\n",
    "        # Código Aquí\n",
    "        self._bandeja.append(nueva_fruta)\n",
    "        print('Fruta añadida')\n",
    "     \n",
    "    def listar_ingredientes(self):\n",
    "        # Código Aquí\n",
    "        if len(self._bandeja) != 0:\n",
    "          frutas = []\n",
    "          for fruta in self._bandeja:\n",
    "            frutas.append(fruta['nombre'])\n",
    "          bandejita = ', '.join(frutas)\n",
    "          print(f\"Ingredientes en la bandeja: {bandejita}.\")\n",
    "        else:\n",
    "          print('Bandeja vacía')\n",
    "\n",
    "    def preparar_jugo(self):\n",
    "        # Código Aquí\n",
    "        self.esta_enchufado()\n",
    "\n",
    "        if len(self._bandeja) == 0:\n",
    "          raise Exception('Error ❌: La bandeja no tiene ingredientes.')\n",
    "\n",
    "        if len(filtrar_por_pepa(self._bandeja, True)) > 0:\n",
    "          print('Alerta ⚠️: El jugo puede contener restos de pepas.')\n",
    "\n",
    "        frutas = []\n",
    "        for fruta in self._bandeja:\n",
    "          frutas.append(fruta['nombre'])\n",
    "        bandejita = ', '.join(frutas)\n",
    "\n",
    "        mensaje = f\"Jugo de {bandejita} listo. 🏖️🥤 Que lo disfrutes!!! 🥤🏖️.\"\n",
    "\n",
    "        self._bandeja.clear()\n",
    "\n",
    "        return mensaje"
   ]
  },
  {
   "cell_type": "markdown",
   "id": "-F2tEWpPuiT-",
   "metadata": {
    "cell_id": "00036-527c7132-9708-46e2-9247-62415e4cd9e3",
    "deepnote_cell_height": 121.93333435058594,
    "deepnote_cell_type": "markdown",
    "id": "-F2tEWpPuiT-",
    "tags": []
   },
   "source": [
    "### Interacciones\n",
    "\n",
    "Las siguientes celdas les permitirán probar las interacciones de esta clase.\n",
    "La ejecución es solo referencial y no lleva puntaje. La idea es que la utilice como guía para desarrollar la clase."
   ]
  },
  {
   "cell_type": "code",
   "execution_count": 35,
   "id": "VGeoGhy6uiT-",
   "metadata": {
    "cell_id": "00037-41d579e0-08fa-4c57-8c02-b2bc69b01d16",
    "colab": {
     "base_uri": "https://localhost:8080/"
    },
    "deepnote_cell_height": 146.46665954589844,
    "deepnote_cell_type": "code",
    "deepnote_to_be_reexecuted": false,
    "execution_millis": 11,
    "execution_start": 1648775323171,
    "id": "VGeoGhy6uiT-",
    "outputId": "038bb163-094d-43fd-8003-1e3a1ed4dea7",
    "source_hash": "d7617c26",
    "tags": []
   },
   "outputs": [
    {
     "name": "stdout",
     "output_type": "stream",
     "text": [
      "Bandeja vacía\n"
     ]
    }
   ],
   "source": [
    "jugera_2 = Jugera()\n",
    "\n",
    "jugera_2.listar_ingredientes()"
   ]
  },
  {
   "cell_type": "code",
   "execution_count": 36,
   "id": "c0Iv0Yc6uiT_",
   "metadata": {
    "cell_id": "00038-075890d0-b90d-4519-9ec8-5e85fbdf8d58",
    "colab": {
     "base_uri": "https://localhost:8080/",
     "height": 310
    },
    "deepnote_cell_height": 142.89999389648438,
    "deepnote_cell_type": "code",
    "deepnote_to_be_reexecuted": false,
    "execution_millis": 353,
    "execution_start": 1648775324616,
    "id": "c0Iv0Yc6uiT_",
    "outputId": "b887bb23-ff77-4d79-9904-399dba5bf88b",
    "source_hash": "480070d3",
    "tags": []
   },
   "outputs": [
    {
     "ename": "Exception",
     "evalue": "Alerta ⚠️: El electrodoméstico no está enchufado.",
     "output_type": "error",
     "traceback": [
      "\u001b[1;31m---------------------------------------------------------------------------\u001b[0m",
      "\u001b[1;31mException\u001b[0m                                 Traceback (most recent call last)",
      "Input \u001b[1;32mIn [36]\u001b[0m, in \u001b[0;36m<cell line: 1>\u001b[1;34m()\u001b[0m\n\u001b[1;32m----> 1\u001b[0m \u001b[43mjugera_2\u001b[49m\u001b[38;5;241;43m.\u001b[39;49m\u001b[43mpreparar_jugo\u001b[49m\u001b[43m(\u001b[49m\u001b[43m)\u001b[49m\n",
      "Input \u001b[1;32mIn [34]\u001b[0m, in \u001b[0;36mJugera.preparar_jugo\u001b[1;34m(self)\u001b[0m\n\u001b[0;32m     50\u001b[0m \u001b[38;5;28;01mdef\u001b[39;00m \u001b[38;5;21mpreparar_jugo\u001b[39m(\u001b[38;5;28mself\u001b[39m):\n\u001b[0;32m     51\u001b[0m     \u001b[38;5;66;03m# Código Aquí\u001b[39;00m\n\u001b[1;32m---> 52\u001b[0m     \u001b[38;5;28;43mself\u001b[39;49m\u001b[38;5;241;43m.\u001b[39;49m\u001b[43mesta_enchufado\u001b[49m\u001b[43m(\u001b[49m\u001b[43m)\u001b[49m\n\u001b[0;32m     54\u001b[0m     \u001b[38;5;28;01mif\u001b[39;00m \u001b[38;5;28mlen\u001b[39m(\u001b[38;5;28mself\u001b[39m\u001b[38;5;241m.\u001b[39m_bandeja) \u001b[38;5;241m==\u001b[39m \u001b[38;5;241m0\u001b[39m:\n\u001b[0;32m     55\u001b[0m       \u001b[38;5;28;01mraise\u001b[39;00m \u001b[38;5;167;01mException\u001b[39;00m(\u001b[38;5;124m'\u001b[39m\u001b[38;5;124mError ❌: La bandeja no tiene ingredientes.\u001b[39m\u001b[38;5;124m'\u001b[39m)\n",
      "Input \u001b[1;32mIn [7]\u001b[0m, in \u001b[0;36mElectrodomestico.esta_enchufado\u001b[1;34m(self)\u001b[0m\n\u001b[0;32m      7\u001b[0m \u001b[38;5;28;01mdef\u001b[39;00m \u001b[38;5;21mesta_enchufado\u001b[39m(\u001b[38;5;28mself\u001b[39m):\n\u001b[0;32m      8\u001b[0m   \u001b[38;5;66;03m# Código Aquí\u001b[39;00m\n\u001b[0;32m      9\u001b[0m   \u001b[38;5;28;01mif\u001b[39;00m \u001b[38;5;129;01mnot\u001b[39;00m \u001b[38;5;28mself\u001b[39m\u001b[38;5;241m.\u001b[39menchufado:\n\u001b[1;32m---> 10\u001b[0m     \u001b[38;5;28;01mraise\u001b[39;00m \u001b[38;5;167;01mException\u001b[39;00m(\u001b[38;5;124m'\u001b[39m\u001b[38;5;124mAlerta ⚠️: El electrodoméstico no está enchufado.\u001b[39m\u001b[38;5;124m'\u001b[39m)\n",
      "\u001b[1;31mException\u001b[0m: Alerta ⚠️: El electrodoméstico no está enchufado."
     ]
    }
   ],
   "source": [
    "jugera_2.preparar_jugo()"
   ]
  },
  {
   "cell_type": "code",
   "execution_count": 37,
   "id": "AGhnPo9_uiT_",
   "metadata": {
    "cell_id": "00039-a4b2a85d-2a1d-4e50-9753-fd70ad04bbe1",
    "colab": {
     "base_uri": "https://localhost:8080/"
    },
    "deepnote_cell_height": 98.13333129882812,
    "deepnote_cell_type": "code",
    "deepnote_to_be_reexecuted": false,
    "execution_millis": 1,
    "execution_start": 1648775325662,
    "id": "AGhnPo9_uiT_",
    "outputId": "fe47b693-732d-42e4-ca97-eb2bade377d1",
    "source_hash": "d3e1edd9",
    "tags": []
   },
   "outputs": [
    {
     "name": "stdout",
     "output_type": "stream",
     "text": [
      "Ud ha enchufado el electrodoméstico.\n"
     ]
    }
   ],
   "source": [
    "# Enchufamos el electrodoméstico\n",
    "jugera_2.enchufar()"
   ]
  },
  {
   "cell_type": "code",
   "execution_count": 38,
   "id": "B2NWy0m_uiT_",
   "metadata": {
    "cell_id": "00040-c5229d92-0b84-4062-b96f-0e774ad515b6",
    "colab": {
     "base_uri": "https://localhost:8080/",
     "height": 304
    },
    "deepnote_cell_height": 160.89999389648438,
    "deepnote_cell_type": "code",
    "deepnote_to_be_reexecuted": false,
    "execution_millis": 31,
    "execution_start": 1648775326486,
    "id": "B2NWy0m_uiT_",
    "outputId": "880220d8-69a5-4220-d194-70c0c6643571",
    "source_hash": "b81f1f5b",
    "tags": []
   },
   "outputs": [
    {
     "ename": "Exception",
     "evalue": "Error ❌: La bandeja no tiene ingredientes.",
     "output_type": "error",
     "traceback": [
      "\u001b[1;31m---------------------------------------------------------------------------\u001b[0m",
      "\u001b[1;31mException\u001b[0m                                 Traceback (most recent call last)",
      "Input \u001b[1;32mIn [38]\u001b[0m, in \u001b[0;36m<cell line: 2>\u001b[1;34m()\u001b[0m\n\u001b[0;32m      1\u001b[0m \u001b[38;5;66;03m# Esta celda debería levantar ina excepción informandoles que la bandeja no tiene ingredientes.\u001b[39;00m\n\u001b[1;32m----> 2\u001b[0m \u001b[43mjugera_2\u001b[49m\u001b[38;5;241;43m.\u001b[39;49m\u001b[43mpreparar_jugo\u001b[49m\u001b[43m(\u001b[49m\u001b[43m)\u001b[49m\n",
      "Input \u001b[1;32mIn [34]\u001b[0m, in \u001b[0;36mJugera.preparar_jugo\u001b[1;34m(self)\u001b[0m\n\u001b[0;32m     52\u001b[0m \u001b[38;5;28mself\u001b[39m\u001b[38;5;241m.\u001b[39mesta_enchufado()\n\u001b[0;32m     54\u001b[0m \u001b[38;5;28;01mif\u001b[39;00m \u001b[38;5;28mlen\u001b[39m(\u001b[38;5;28mself\u001b[39m\u001b[38;5;241m.\u001b[39m_bandeja) \u001b[38;5;241m==\u001b[39m \u001b[38;5;241m0\u001b[39m:\n\u001b[1;32m---> 55\u001b[0m   \u001b[38;5;28;01mraise\u001b[39;00m \u001b[38;5;167;01mException\u001b[39;00m(\u001b[38;5;124m'\u001b[39m\u001b[38;5;124mError ❌: La bandeja no tiene ingredientes.\u001b[39m\u001b[38;5;124m'\u001b[39m)\n\u001b[0;32m     57\u001b[0m \u001b[38;5;28;01mif\u001b[39;00m \u001b[38;5;28mlen\u001b[39m(filtrar_por_pepa(\u001b[38;5;28mself\u001b[39m\u001b[38;5;241m.\u001b[39m_bandeja, \u001b[38;5;28;01mTrue\u001b[39;00m)) \u001b[38;5;241m>\u001b[39m \u001b[38;5;241m0\u001b[39m:\n\u001b[0;32m     58\u001b[0m   \u001b[38;5;28mprint\u001b[39m(\u001b[38;5;124m'\u001b[39m\u001b[38;5;124mAlerta ⚠️: El jugo puede contener restos de pepas.\u001b[39m\u001b[38;5;124m'\u001b[39m)\n",
      "\u001b[1;31mException\u001b[0m: Error ❌: La bandeja no tiene ingredientes."
     ]
    }
   ],
   "source": [
    "# Esta celda debería levantar ina excepción informandoles que la bandeja no tiene ingredientes.\n",
    "jugera_2.preparar_jugo()"
   ]
  },
  {
   "cell_type": "code",
   "execution_count": 39,
   "id": "9ZF9m5hpuiT_",
   "metadata": {
    "cell_id": "00041-2c4b1955-3069-443f-922f-843f1b40c84e",
    "colab": {
     "base_uri": "https://localhost:8080/",
     "height": 304
    },
    "deepnote_cell_height": 160.89999389648438,
    "deepnote_cell_type": "code",
    "deepnote_to_be_reexecuted": false,
    "execution_millis": 28,
    "execution_start": 1648775327690,
    "id": "9ZF9m5hpuiT_",
    "outputId": "4f3ae34d-172b-4d9b-bebd-89af6718702f",
    "source_hash": "a016a727",
    "tags": []
   },
   "outputs": [
    {
     "ename": "ValueError",
     "evalue": "nueva_bandeja tiene más de 3 frutas.",
     "output_type": "error",
     "traceback": [
      "\u001b[1;31m---------------------------------------------------------------------------\u001b[0m",
      "\u001b[1;31mValueError\u001b[0m                                Traceback (most recent call last)",
      "Input \u001b[1;32mIn [39]\u001b[0m, in \u001b[0;36m<cell line: 2>\u001b[1;34m()\u001b[0m\n\u001b[0;32m      1\u001b[0m \u001b[38;5;66;03m# Agregamos algunos ingredientes (en este caso, como son más de 3, fallará)\u001b[39;00m\n\u001b[1;32m----> 2\u001b[0m jugera_2\u001b[38;5;241m.\u001b[39mbandeja \u001b[38;5;241m=\u001b[39m [naranja, platano, frutilla, limon]\n",
      "Input \u001b[1;32mIn [34]\u001b[0m, in \u001b[0;36mJugera.bandeja\u001b[1;34m(self, nueva_bandeja)\u001b[0m\n\u001b[0;32m     19\u001b[0m   \u001b[38;5;28;01mraise\u001b[39;00m \u001b[38;5;167;01mTypeError\u001b[39;00m(\u001b[38;5;124mf\u001b[39m\u001b[38;5;124m'\u001b[39m\u001b[38;5;124mnueva_bandeja no es una lista.\u001b[39m\u001b[38;5;124m'\u001b[39m)\n\u001b[0;32m     21\u001b[0m \u001b[38;5;28;01mif\u001b[39;00m \u001b[38;5;28mlen\u001b[39m(nueva_bandeja) \u001b[38;5;241m>\u001b[39m \u001b[38;5;241m3\u001b[39m:\n\u001b[1;32m---> 22\u001b[0m   \u001b[38;5;28;01mraise\u001b[39;00m \u001b[38;5;167;01mValueError\u001b[39;00m(\u001b[38;5;124mf\u001b[39m\u001b[38;5;124m'\u001b[39m\u001b[38;5;124mnueva_bandeja tiene más de 3 frutas.\u001b[39m\u001b[38;5;124m'\u001b[39m)\n\u001b[0;32m     24\u001b[0m \u001b[38;5;28;01mfor\u001b[39;00m fruta \u001b[38;5;129;01min\u001b[39;00m nueva_bandeja:\n\u001b[0;32m     25\u001b[0m   \u001b[38;5;28;01mif\u001b[39;00m \u001b[38;5;129;01mnot\u001b[39;00m \u001b[38;5;28misinstance\u001b[39m(fruta, \u001b[38;5;28mdict\u001b[39m):\n",
      "\u001b[1;31mValueError\u001b[0m: nueva_bandeja tiene más de 3 frutas."
     ]
    }
   ],
   "source": [
    "# Agregamos algunos ingredientes (en este caso, como son más de 3, fallará)\n",
    "jugera_2.bandeja = [naranja, platano, frutilla, limon]"
   ]
  },
  {
   "cell_type": "code",
   "execution_count": 40,
   "id": "bpHxsqCtuiT_",
   "metadata": {
    "cell_id": "00042-c03572d9-14f4-417b-8f04-a92f7d66b958",
    "colab": {
     "base_uri": "https://localhost:8080/",
     "height": 321
    },
    "deepnote_cell_height": 178.89999389648438,
    "deepnote_cell_type": "code",
    "deepnote_to_be_reexecuted": false,
    "execution_millis": 24,
    "execution_start": 1648775328947,
    "id": "bpHxsqCtuiT_",
    "outputId": "d273c702-e159-4211-db9f-e172524c62e1",
    "source_hash": "561a3ff9",
    "tags": []
   },
   "outputs": [
    {
     "ename": "TypeError",
     "evalue": "fruta naranja no es un diccionario.",
     "output_type": "error",
     "traceback": [
      "\u001b[1;31m---------------------------------------------------------------------------\u001b[0m",
      "\u001b[1;31mTypeError\u001b[0m                                 Traceback (most recent call last)",
      "Input \u001b[1;32mIn [40]\u001b[0m, in \u001b[0;36m<cell line: 3>\u001b[1;34m()\u001b[0m\n\u001b[0;32m      1\u001b[0m \u001b[38;5;66;03m# Agregamos algunos ingredientes \u001b[39;00m\n\u001b[0;32m      2\u001b[0m \u001b[38;5;66;03m# (en este caso debería fallar, ya que estamos entregando un string en el primer lugar)\u001b[39;00m\n\u001b[1;32m----> 3\u001b[0m jugera_2\u001b[38;5;241m.\u001b[39mbandeja \u001b[38;5;241m=\u001b[39m [\u001b[38;5;124m\"\u001b[39m\u001b[38;5;124mnaranja\u001b[39m\u001b[38;5;124m\"\u001b[39m, platano, frutilla]\n",
      "Input \u001b[1;32mIn [34]\u001b[0m, in \u001b[0;36mJugera.bandeja\u001b[1;34m(self, nueva_bandeja)\u001b[0m\n\u001b[0;32m     24\u001b[0m \u001b[38;5;28;01mfor\u001b[39;00m fruta \u001b[38;5;129;01min\u001b[39;00m nueva_bandeja:\n\u001b[0;32m     25\u001b[0m   \u001b[38;5;28;01mif\u001b[39;00m \u001b[38;5;129;01mnot\u001b[39;00m \u001b[38;5;28misinstance\u001b[39m(fruta, \u001b[38;5;28mdict\u001b[39m):\n\u001b[1;32m---> 26\u001b[0m     \u001b[38;5;28;01mraise\u001b[39;00m \u001b[38;5;167;01mTypeError\u001b[39;00m(\u001b[38;5;124mf\u001b[39m\u001b[38;5;124m'\u001b[39m\u001b[38;5;124mfruta \u001b[39m\u001b[38;5;132;01m{\u001b[39;00mfruta\u001b[38;5;132;01m}\u001b[39;00m\u001b[38;5;124m no es un diccionario.\u001b[39m\u001b[38;5;124m'\u001b[39m)\n\u001b[0;32m     28\u001b[0m   \u001b[38;5;28;01mfor\u001b[39;00m llave \u001b[38;5;129;01min\u001b[39;00m [\u001b[38;5;124m'\u001b[39m\u001b[38;5;124mnombre\u001b[39m\u001b[38;5;124m'\u001b[39m, \u001b[38;5;124m'\u001b[39m\u001b[38;5;124mtipo\u001b[39m\u001b[38;5;124m'\u001b[39m, \u001b[38;5;124m'\u001b[39m\u001b[38;5;124mcolor\u001b[39m\u001b[38;5;124m'\u001b[39m, \u001b[38;5;124m'\u001b[39m\u001b[38;5;124mpepas\u001b[39m\u001b[38;5;124m'\u001b[39m]:\n\u001b[0;32m     29\u001b[0m     \u001b[38;5;28;01mif\u001b[39;00m llave \u001b[38;5;129;01mnot\u001b[39;00m \u001b[38;5;129;01min\u001b[39;00m fruta:\n",
      "\u001b[1;31mTypeError\u001b[0m: fruta naranja no es un diccionario."
     ]
    }
   ],
   "source": [
    "# Agregamos algunos ingredientes \n",
    "# (en este caso debería fallar, ya que estamos entregando un string en el primer lugar)\n",
    "jugera_2.bandeja = [\"naranja\", platano, frutilla]"
   ]
  },
  {
   "cell_type": "code",
   "execution_count": 41,
   "id": "6Qmhn0PjuiUA",
   "metadata": {
    "cell_id": "00043-eda8b414-d382-433c-9a79-1882742c239c",
    "colab": {
     "base_uri": "https://localhost:8080/",
     "height": 321
    },
    "deepnote_cell_height": 178.89999389648438,
    "deepnote_cell_type": "code",
    "deepnote_to_be_reexecuted": false,
    "execution_millis": 25,
    "execution_start": 1648775330207,
    "id": "6Qmhn0PjuiUA",
    "outputId": "8eae5e21-b0db-4bf2-81f8-abab3bc86424",
    "source_hash": "ecc3586",
    "tags": []
   },
   "outputs": [
    {
     "ename": "ValueError",
     "evalue": "Falta una o más llaves en la/las fruta(s) entregada(s).",
     "output_type": "error",
     "traceback": [
      "\u001b[1;31m---------------------------------------------------------------------------\u001b[0m",
      "\u001b[1;31mValueError\u001b[0m                                Traceback (most recent call last)",
      "Input \u001b[1;32mIn [41]\u001b[0m, in \u001b[0;36m<cell line: 3>\u001b[1;34m()\u001b[0m\n\u001b[0;32m      1\u001b[0m \u001b[38;5;66;03m# Agregamos algunos ingredientes \u001b[39;00m\n\u001b[0;32m      2\u001b[0m \u001b[38;5;66;03m# (en este caso debería fallar, ya que arándando tiene solo la llave nombre)\u001b[39;00m\n\u001b[1;32m----> 3\u001b[0m jugera_2\u001b[38;5;241m.\u001b[39mbandeja \u001b[38;5;241m=\u001b[39m [{\u001b[38;5;124m'\u001b[39m\u001b[38;5;124mnombre\u001b[39m\u001b[38;5;124m'\u001b[39m: \u001b[38;5;124m'\u001b[39m\u001b[38;5;124marándano\u001b[39m\u001b[38;5;124m'\u001b[39m}, platano, frutilla]\n",
      "Input \u001b[1;32mIn [34]\u001b[0m, in \u001b[0;36mJugera.bandeja\u001b[1;34m(self, nueva_bandeja)\u001b[0m\n\u001b[0;32m     28\u001b[0m   \u001b[38;5;28;01mfor\u001b[39;00m llave \u001b[38;5;129;01min\u001b[39;00m [\u001b[38;5;124m'\u001b[39m\u001b[38;5;124mnombre\u001b[39m\u001b[38;5;124m'\u001b[39m, \u001b[38;5;124m'\u001b[39m\u001b[38;5;124mtipo\u001b[39m\u001b[38;5;124m'\u001b[39m, \u001b[38;5;124m'\u001b[39m\u001b[38;5;124mcolor\u001b[39m\u001b[38;5;124m'\u001b[39m, \u001b[38;5;124m'\u001b[39m\u001b[38;5;124mpepas\u001b[39m\u001b[38;5;124m'\u001b[39m]:\n\u001b[0;32m     29\u001b[0m     \u001b[38;5;28;01mif\u001b[39;00m llave \u001b[38;5;129;01mnot\u001b[39;00m \u001b[38;5;129;01min\u001b[39;00m fruta:\n\u001b[1;32m---> 30\u001b[0m       \u001b[38;5;28;01mraise\u001b[39;00m \u001b[38;5;167;01mValueError\u001b[39;00m(\u001b[38;5;124m'\u001b[39m\u001b[38;5;124mFalta una o más llaves en la/las fruta(s) entregada(s).\u001b[39m\u001b[38;5;124m'\u001b[39m)\n\u001b[0;32m     32\u001b[0m \u001b[38;5;28mself\u001b[39m\u001b[38;5;241m.\u001b[39m_bandeja \u001b[38;5;241m=\u001b[39m nueva_bandeja\n",
      "\u001b[1;31mValueError\u001b[0m: Falta una o más llaves en la/las fruta(s) entregada(s)."
     ]
    }
   ],
   "source": [
    "# Agregamos algunos ingredientes \n",
    "# (en este caso debería fallar, ya que arándando tiene solo la llave nombre)\n",
    "jugera_2.bandeja = [{'nombre': 'arándano'}, platano, frutilla]"
   ]
  },
  {
   "cell_type": "code",
   "execution_count": 42,
   "id": "GxOCl37VuiUA",
   "metadata": {
    "cell_id": "00044-d301b297-feb0-492f-a8f8-e46a1fe8c8ac",
    "colab": {
     "base_uri": "https://localhost:8080/"
    },
    "deepnote_cell_height": 182.46665954589844,
    "deepnote_cell_type": "code",
    "deepnote_to_be_reexecuted": false,
    "execution_millis": 5,
    "execution_start": 1648775331250,
    "id": "GxOCl37VuiUA",
    "outputId": "24d6dca9-e5ec-45ac-bdcf-23b58ae365a4",
    "source_hash": "b2bcbf",
    "tags": []
   },
   "outputs": [
    {
     "name": "stdout",
     "output_type": "stream",
     "text": [
      "Ingredientes en la bandeja: naranja, plátano, frutilla.\n"
     ]
    }
   ],
   "source": [
    "# Agregamos algunos ingredientes (en este caso, como son 3, debería funcionar)\n",
    "jugera_2.bandeja = [naranja, platano, frutilla]\n",
    "\n",
    "# Y los listamos (debería imprimir: 'Ingredientes en la bandeja: naranja, plátano')\n",
    "jugera_2.listar_ingredientes()"
   ]
  },
  {
   "cell_type": "code",
   "execution_count": 43,
   "id": "ZbM34RzluiUA",
   "metadata": {
    "cell_id": "00045-b91392f5-b9fa-46c9-a00a-fa96e49947ae",
    "colab": {
     "base_uri": "https://localhost:8080/",
     "height": 53
    },
    "deepnote_cell_height": 134.6999969482422,
    "deepnote_cell_type": "code",
    "deepnote_output_heights": [
     21
    ],
    "deepnote_to_be_reexecuted": false,
    "execution_millis": 52,
    "execution_start": 1648775332754,
    "id": "ZbM34RzluiUA",
    "outputId": "d0819e05-903e-47e6-895e-8186d9ef39f5",
    "source_hash": "a9d685c1",
    "tags": []
   },
   "outputs": [
    {
     "name": "stdout",
     "output_type": "stream",
     "text": [
      "Alerta ⚠️: El jugo puede contener restos de pepas.\n"
     ]
    },
    {
     "data": {
      "text/plain": [
       "'Jugo de naranja, plátano, frutilla listo. 🏖️🥤 Que lo disfrutes!!! 🥤🏖️.'"
      ]
     },
     "execution_count": 43,
     "metadata": {},
     "output_type": "execute_result"
    }
   ],
   "source": [
    "# Una vez preparado el jugo, imprima el contenido del jugo y si una alerta, \n",
    "# en el caso que el jugo tenga pepas.\n",
    "jugera_2.preparar_jugo()"
   ]
  },
  {
   "cell_type": "markdown",
   "id": "zRwpPkyAuiUA",
   "metadata": {
    "created_in_deepnote_cell": true,
    "deepnote_cell_type": "markdown",
    "id": "zRwpPkyAuiUA",
    "tags": []
   },
   "source": [
    "<a style='text-decoration:none;line-height:16px;display:flex;color:#5B5B62;padding:10px;justify-content:end;' href='https://deepnote.com?utm_source=created-in-deepnote-cell&projectId=87110296-876e-426f-b91d-aaf681223468' target=\"_blank\">\n",
    "<img alt='Created in deepnote.com' style='display:inline;max-height:16px;margin:0px;margin-right:7.5px;' src='data:image/svg+xml;base64,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' > </img>\n",
    "Created in <span style='font-weight:600;margin-left:4px;'>Deepnote</span></a>"
   ]
  }
 ],
 "metadata": {
  "colab": {
   "collapsed_sections": [],
   "name": "LAB1_MDS.ipynb",
   "provenance": []
  },
  "deepnote": {},
  "deepnote_execution_queue": [],
  "deepnote_notebook_id": "cfa15046-8255-49ab-93f0-9dc852ffad49",
  "kernelspec": {
   "display_name": "Python 3 (ipykernel)",
   "language": "python",
   "name": "python3"
  },
  "language_info": {
   "codemirror_mode": {
    "name": "ipython",
    "version": 3
   },
   "file_extension": ".py",
   "mimetype": "text/x-python",
   "name": "python",
   "nbconvert_exporter": "python",
   "pygments_lexer": "ipython3",
   "version": "3.9.7"
  }
 },
 "nbformat": 4,
 "nbformat_minor": 5
}
